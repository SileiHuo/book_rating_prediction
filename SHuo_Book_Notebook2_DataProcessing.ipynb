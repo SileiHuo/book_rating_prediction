version https://git-lfs.github.com/spec/v1
oid sha256:41de46ee0138871f6177baba9ef44dd31dc3cc35370fcc6b9fed4ec24f05fe19
size 173084655
